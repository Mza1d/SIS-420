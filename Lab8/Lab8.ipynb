{
 "cells": [
  {
   "cell_type": "code",
   "execution_count": 46,
   "metadata": {},
   "outputs": [],
   "source": [
    "# utilizado para manejos de directorios y rutas\n",
    "import os\n",
    "\n",
    "# Computacion vectorial y cientifica para python\n",
    "import numpy as np\n",
    "\n",
    "# Librerias para graficación (trazado de gráficos)\n",
    "from matplotlib import pyplot\n",
    "from mpl_toolkits.mplot3d import Axes3D  # Necesario para graficar superficies 3D"
   ]
  },
  {
   "cell_type": "code",
   "execution_count": 73,
   "metadata": {},
   "outputs": [
    {
     "name": "stdout",
     "output_type": "stream",
     "text": [
      "      20         5\n",
      "      25        15\n",
      "      30        20\n",
      "      35        30\n",
      "      40        40\n",
      "      45        60\n",
      "      50        75\n",
      "      55        80\n",
      "      60        95\n",
      "      65       100\n",
      "      70       105\n",
      "      75       120\n",
      "      80       250\n",
      "      85       450\n",
      "      90       500\n",
      "      95       550\n",
      "     100       600\n",
      "     105       650\n",
      "     110       700\n",
      "     115       850\n",
      "     120       900\n",
      "     125      1000\n",
      "     130      1110\n",
      "     135      1180\n",
      "     140      1200\n",
      "     145      1300\n",
      "     150      1350\n",
      "     155      1550\n",
      "     160      1820\n",
      "     165      2000\n",
      "     170      1800\n",
      "     175      1750\n",
      "     180      1600\n",
      "     185      1500\n",
      "     190      1450\n",
      "     195      1300\n",
      "     200      1200\n",
      "     205      1100\n",
      "     210      1000\n",
      "     215       950\n",
      "     220       850\n",
      "     225       700\n",
      "     230       650\n",
      "     235       550\n",
      "     240       450\n",
      "     245       350\n",
      "     250       300\n",
      "     255       250\n",
      "     260       200\n",
      "     265       180\n",
      "     270       170\n",
      "     275       160\n",
      "     280       150\n",
      "     285       140\n",
      "     290       130\n",
      "     295       100\n",
      "     300        50\n",
      "     305        40\n",
      "     310        20\n",
      "     315        10\n"
     ]
    }
   ],
   "source": [
    "# Cargar datos\n",
    "#data = np.loadtxt(os.path.join('Datasets', 'capacidad_adquisitiva.csv'), delimiter=';')\n",
    "#from numpy import genfromtxt\n",
    "#data = genfromtxt(os.path.join('Datasets', 'capacidad_adquisitiva.csv'), delimiter=';')\n",
    "data = np.loadtxt('./dataset/Hotel.csv', delimiter=\";\",skiprows=1)\n",
    "#print(data)\n",
    "X = data[:, :1]\n",
    "y = data[:, 1]\n",
    "m = y.size\n",
    "\n",
    "for i in range(60):\n",
    "    print('{:8.0f}{:10.0f}'.format(X[i, 0], y[i]))"
   ]
  },
  {
   "cell_type": "code",
   "execution_count": 75,
   "metadata": {},
   "outputs": [],
   "source": [
    "def plotData(x, y):\n",
    "    #Grafica los puntos x e y en una figura nueva. \n",
    "    \n",
    "    fig = pyplot.figure()  # abre una nueva figura\n",
    "    \n",
    "    pyplot.plot(x, y, 'ro', ms=10, mec='k')\n",
    "    pyplot.title('Hotel')\n",
    "    pyplot.ylabel('DENSIDAD')\n",
    "    pyplot.xlabel('PRECIO')"
   ]
  },
  {
   "cell_type": "code",
   "execution_count": 76,
   "metadata": {},
   "outputs": [
    {
     "data": {
      "image/png": "[encoded data removed]",
      "text/plain": [
       "<Figure size 432x288 with 1 Axes>"
      ]
     },
     "metadata": {
      "needs_background": "light"
     },
     "output_type": "display_data"
    }
   ],
   "source": [
    "plotData(X, y)"
   ]
  },
  {
   "cell_type": "code",
   "execution_count": 77,
   "metadata": {},
   "outputs": [],
   "source": [
    "X = np.concatenate([X, X * X], axis=1)"
   ]
  },
  {
   "cell_type": "code",
   "execution_count": 78,
   "metadata": {},
   "outputs": [
    {
     "name": "stdout",
     "output_type": "stream",
     "text": [
      "[[2.0000e+01 4.0000e+02]\n",
      " [2.5000e+01 6.2500e+02]\n",
      " [3.0000e+01 9.0000e+02]\n",
      " [3.5000e+01 1.2250e+03]\n",
      " [4.0000e+01 1.6000e+03]\n",
      " [4.5000e+01 2.0250e+03]\n",
      " [5.0000e+01 2.5000e+03]\n",
      " [5.5000e+01 3.0250e+03]\n",
      " [6.0000e+01 3.6000e+03]\n",
      " [6.5000e+01 4.2250e+03]\n",
      " [7.0000e+01 4.9000e+03]\n",
      " [7.5000e+01 5.6250e+03]\n",
      " [8.0000e+01 6.4000e+03]\n",
      " [8.5000e+01 7.2250e+03]\n",
      " [9.0000e+01 8.1000e+03]\n",
      " [9.5000e+01 9.0250e+03]\n",
      " [1.0000e+02 1.0000e+04]\n",
      " [1.0500e+02 1.1025e+04]\n",
      " [1.1000e+02 1.2100e+04]\n",
      " [1.1500e+02 1.3225e+04]\n",
      " [1.2000e+02 1.4400e+04]\n",
      " [1.2500e+02 1.5625e+04]\n",
      " [1.3000e+02 1.6900e+04]\n",
      " [1.3500e+02 1.8225e+04]\n",
      " [1.4000e+02 1.9600e+04]\n",
      " [1.4500e+02 2.1025e+04]\n",
      " [1.5000e+02 2.2500e+04]\n",
      " [1.5500e+02 2.4025e+04]\n",
      " [1.6000e+02 2.5600e+04]\n",
      " [1.6500e+02 2.7225e+04]\n",
      " [1.7000e+02 2.8900e+04]\n",
      " [1.7500e+02 3.0625e+04]\n",
      " [1.8000e+02 3.2400e+04]\n",
      " [1.8500e+02 3.4225e+04]\n",
      " [1.9000e+02 3.6100e+04]\n",
      " [1.9500e+02 3.8025e+04]\n",
      " [2.0000e+02 4.0000e+04]\n",
      " [2.0500e+02 4.2025e+04]\n",
      " [2.1000e+02 4.4100e+04]\n",
      " [2.1500e+02 4.6225e+04]\n",
      " [2.2000e+02 4.8400e+04]\n",
      " [2.2500e+02 5.0625e+04]\n",
      " [2.3000e+02 5.2900e+04]\n",
      " [2.3500e+02 5.5225e+04]\n",
      " [2.4000e+02 5.7600e+04]\n",
      " [2.4500e+02 6.0025e+04]\n",
      " [2.5000e+02 6.2500e+04]\n",
      " [2.5500e+02 6.5025e+04]\n",
      " [2.6000e+02 6.7600e+04]\n",
      " [2.6500e+02 7.0225e+04]\n",
      " [2.7000e+02 7.2900e+04]\n",
      " [2.7500e+02 7.5625e+04]\n",
      " [2.8000e+02 7.8400e+04]\n",
      " [2.8500e+02 8.1225e+04]\n",
      " [2.9000e+02 8.4100e+04]\n",
      " [2.9500e+02 8.7025e+04]\n",
      " [3.0000e+02 9.0000e+04]\n",
      " [3.0500e+02 9.3025e+04]\n",
      " [3.1000e+02 9.6100e+04]\n",
      " [3.1500e+02 9.9225e+04]]\n"
     ]
    }
   ],
   "source": [
    "print(X)"
   ]
  },
  {
   "cell_type": "code",
   "execution_count": 79,
   "metadata": {},
   "outputs": [],
   "source": [
    "def  featureNormalize(X):\n",
    "    X_norm = X.copy()\n",
    "    mu = np.zeros(X.shape[1])\n",
    "    sigma = np.zeros(X.shape[1])\n",
    "\n",
    "    mu = np.mean(X, axis = 0)\n",
    "    sigma = np.std(X, axis = 0)\n",
    "    X_norm = (X - mu) / sigma\n",
    "    \n",
    "    return X_norm, mu, sigma"
   ]
  },
  {
   "cell_type": "code",
   "execution_count": 80,
   "metadata": {},
   "outputs": [
    {
     "name": "stdout",
     "output_type": "stream",
     "text": [
      "Media calculada: [  167.5        35554.16666667]\n",
      "Desviación estandar calculada: [   86.59051141 29772.32291585]\n"
     ]
    }
   ],
   "source": [
    "# llama featureNormalize con los datos cargados\n",
    "X_norm, mu, sigma = featureNormalize(X)\n",
    "\n",
    "#print(X)\n",
    "print('Media calculada:', mu)\n",
    "print('Desviación estandar calculada:', sigma)\n",
    "#print(X_norm)"
   ]
  },
  {
   "cell_type": "code",
   "execution_count": 81,
   "metadata": {},
   "outputs": [
    {
     "data": {
      "image/png": "[encoded data removed]",
      "text/plain": [
       "<Figure size 432x288 with 1 Axes>"
      ]
     },
     "metadata": {
      "needs_background": "light"
     },
     "output_type": "display_data"
    }
   ],
   "source": [
    "plotData(X_norm, y)"
   ]
  },
  {
   "cell_type": "code",
   "execution_count": 85,
   "metadata": {},
   "outputs": [],
   "source": [
    "# Añade el termino de interseccion a X\n",
    "# (Columna de unos para X0)\n",
    "#X_norm = np.concatenate([X_norm, X_norm * X_norm], axis=1)\n",
    "X = np.concatenate([np.ones((m, 1)), X_norm], axis=1)"
   ]
  },
  {
   "cell_type": "code",
   "execution_count": 86,
   "metadata": {},
   "outputs": [
    {
     "name": "stdout",
     "output_type": "stream",
     "text": [
      "[[ 1.         -1.7034199  -1.18076667]\n",
      " [ 1.         -1.64567685 -1.17320932]\n",
      " [ 1.         -1.5879338  -1.16397255]\n",
      " [ 1.         -1.53019075 -1.15305637]\n",
      " [ 1.         -1.47244771 -1.14046078]\n",
      " [ 1.         -1.41470466 -1.12618578]\n",
      " [ 1.         -1.35696161 -1.11023136]\n",
      " [ 1.         -1.29921857 -1.09259754]\n",
      " [ 1.         -1.24147552 -1.0732843 ]\n",
      " [ 1.         -1.18373247 -1.05229165]\n",
      " [ 1.         -1.12598942 -1.02961958]\n",
      " [ 1.         -1.06824638 -1.00526811]\n",
      " [ 1.         -1.01050333 -0.97923722]\n",
      " [ 1.         -0.95276028 -0.95152692]\n",
      " [ 1.         -0.89501723 -0.92213721]\n",
      " [ 1.         -0.83727419 -0.89106808]\n",
      " [ 1.         -0.77953114 -0.85831955]\n",
      " [ 1.         -0.72178809 -0.8238916 ]\n",
      " [ 1.         -0.66404504 -0.78778424]\n",
      " [ 1.         -0.606302   -0.74999746]\n",
      " [ 1.         -0.54855895 -0.71053128]\n",
      " [ 1.         -0.4908159  -0.66938568]\n",
      " [ 1.         -0.43307286 -0.62656067]\n",
      " [ 1.         -0.37532981 -0.58205625]\n",
      " [ 1.         -0.31758676 -0.53587242]\n",
      " [ 1.         -0.25984371 -0.48800917]\n",
      " [ 1.         -0.20210067 -0.43846651]\n",
      " [ 1.         -0.14435762 -0.38724445]\n",
      " [ 1.         -0.08661457 -0.33434296]\n",
      " [ 1.         -0.02887152 -0.27976207]\n",
      " [ 1.          0.02887152 -0.22350176]\n",
      " [ 1.          0.08661457 -0.16556205]\n",
      " [ 1.          0.14435762 -0.10594291]\n",
      " [ 1.          0.20210067 -0.04464437]\n",
      " [ 1.          0.25984371  0.01833358]\n",
      " [ 1.          0.31758676  0.08299095]\n",
      " [ 1.          0.37532981  0.14932773]\n",
      " [ 1.          0.43307286  0.21734392]\n",
      " [ 1.          0.4908159   0.28703952]\n",
      " [ 1.          0.54855895  0.35841454]\n",
      " [ 1.          0.606302    0.43146896]\n",
      " [ 1.          0.66404504  0.5062028 ]\n",
      " [ 1.          0.72178809  0.58261606]\n",
      " [ 1.          0.77953114  0.66070872]\n",
      " [ 1.          0.83727419  0.74048079]\n",
      " [ 1.          0.89501723  0.82193228]\n",
      " [ 1.          0.95276028  0.90506318]\n",
      " [ 1.          1.01050333  0.98987349]\n",
      " [ 1.          1.06824638  1.07636322]\n",
      " [ 1.          1.12598942  1.16453236]\n",
      " [ 1.          1.18373247  1.2543809 ]\n",
      " [ 1.          1.24147552  1.34590886]\n",
      " [ 1.          1.29921857  1.43911624]\n",
      " [ 1.          1.35696161  1.53400302]\n",
      " [ 1.          1.41470466  1.63056922]\n",
      " [ 1.          1.47244771  1.72881483]\n",
      " [ 1.          1.53019075  1.82873985]\n",
      " [ 1.          1.5879338   1.93034428]\n",
      " [ 1.          1.64567685  2.03362813]\n",
      " [ 1.          1.7034199   2.13859139]]\n"
     ]
    }
   ],
   "source": [
    "print(X)"
   ]
  },
  {
   "cell_type": "code",
   "execution_count": 87,
   "metadata": {},
   "outputs": [],
   "source": [
    "def computeCostMulti(X, y, theta):\n",
    "    # Inicializa algunos valores utiles\n",
    "    m = y.shape[0] # numero de ejemplos de entrenamiento\n",
    "    \n",
    "    J = 0\n",
    "    \n",
    "    h = np.dot(X, theta)\n",
    "    \n",
    "    J = (1/(2 * m)) * np.sum(np.square(np.dot(X, theta) - y))\n",
    "    \n",
    "    return J"
   ]
  },
  {
   "cell_type": "code",
   "execution_count": 88,
   "metadata": {},
   "outputs": [],
   "source": [
    "def gradientDescentMulti(X, y, theta, alpha, num_iters):\n",
    "    \n",
    "    # Inicializa algunos valores \n",
    "    m = y.shape[0] # numero de ejemplos de entrenamiento\n",
    "    \n",
    "    # realiza una copia de theta, el cual será acutalizada por el descenso por el gradiente\n",
    "    theta = theta.copy()\n",
    "    \n",
    "    J_history = []\n",
    "    \n",
    "    for i in range(num_iters):\n",
    "        theta = theta - (alpha / m) * (np.dot(X, theta) - y).dot(X)\n",
    "        J_history.append(computeCostMulti(X, y, theta))\n",
    "    \n",
    "    return theta, J_history"
   ]
  },
  {
   "cell_type": "code",
   "execution_count": 89,
   "metadata": {},
   "outputs": [
    {
     "name": "stdout",
     "output_type": "stream",
     "text": [
      "theta calculado por el descenso por el gradiente: [  630.08333333  2164.8702252  -2213.26533586]\n",
      "La capacidad densidad para un precio de 70 (usando el descenso por el gradiente): $775\n"
     ]
    },
    {
     "data": {
      "image/png": "[encoded data removed]",
      "text/plain": [
       "<Figure size 432x288 with 1 Axes>"
      ]
     },
     "metadata": {
      "needs_background": "light"
     },
     "output_type": "display_data"
    }
   ],
   "source": [
    "#\n",
    "# Elegir algun valor para alpha (probar varias alternativas)\n",
    "alpha = 0.001\n",
    "num_iters = 1000000\n",
    "\n",
    "# inicializa theta y ejecuta el descenso por el gradiente\n",
    "theta = np.zeros(3)\n",
    "theta, J_history = gradientDescentMulti(X, y, theta, alpha, num_iters)\n",
    "\n",
    "# Grafica la convergencia del costo\n",
    "pyplot.plot(np.arange(len(J_history)), J_history, lw=2)\n",
    "pyplot.xlabel('Numero de iteraciones')\n",
    "pyplot.ylabel('Costo J')\n",
    "\n",
    "# Muestra los resultados del descenso por el gradiente\n",
    "print('theta calculado por el descenso por el gradiente: {:s}'.format(str(theta)))\n",
    "\n",
    "# La capacidad densidad de un precio de 70\n",
    "X_array = [1, 71, 1156]\n",
    "X_array[1:3] = (X_array[1:3] - mu) / sigma\n",
    "price = np.dot(X_array, theta)   # Se debe cambiar esto\n",
    "\n",
    "print('La capacidad densidad para un precio de 70 (usando el descenso por el gradiente): ${:.0f}'.format(price))"
   ]
  },
  {
   "cell_type": "code",
   "execution_count": 90,
   "metadata": {},
   "outputs": [
    {
     "data": {
      "text/plain": [
       "[<matplotlib.lines.Line2D at 0x1eb06632380>]"
      ]
     },
     "execution_count": 90,
     "metadata": {},
     "output_type": "execute_result"
    },
    {
     "data": {
      "image/png": "[encoded data removed]",
      "text/plain": [
       "<Figure size 432x288 with 1 Axes>"
      ]
     },
     "metadata": {
      "needs_background": "light"
     },
     "output_type": "display_data"
    }
   ],
   "source": [
    "plotData(X[:, 1], y)\n",
    "pyplot.plot(X[:, 1], np.dot(X, theta), '-')"
   ]
  },
  {
   "cell_type": "code",
   "execution_count": 91,
   "metadata": {},
   "outputs": [],
   "source": [
    "X_array = [1, 23, 529]\n",
    "X_array[1:3] = (X_array[1:3] - mu) / sigma"
   ]
  },
  {
   "cell_type": "code",
   "execution_count": 92,
   "metadata": {},
   "outputs": [
    {
     "name": "stdout",
     "output_type": "stream",
     "text": [
      "-378.83583359229215\n"
     ]
    }
   ],
   "source": [
    "X_array[1:3]\n",
    "print(np.dot(X_array, theta))"
   ]
  },
  {
   "cell_type": "code",
   "execution_count": 93,
   "metadata": {},
   "outputs": [],
   "source": [
    "# Cargar datos\n",
    "data = np.loadtxt('./dataset/Hotel.csv', delimiter=\";\",skiprows=1)\n",
    "X = data[:, :1]\n",
    "y = data[:, 1]\n",
    "m = y.size\n",
    "X_original = X.copy()\n",
    "X = np.concatenate([X, X * X], axis=1)\n",
    "X = np.concatenate([np.ones((m, 1)), X], axis=1)"
   ]
  },
  {
   "cell_type": "code",
   "execution_count": 94,
   "metadata": {},
   "outputs": [],
   "source": [
    "def normalEqn(X, y):\n",
    "      \n",
    "    theta = np.zeros(X.shape[1])\n",
    "    \n",
    "    theta = np.dot(np.dot(np.linalg.inv(np.dot(X.T,X)),X.T),y)\n",
    "    \n",
    "    return theta"
   ]
  },
  {
   "cell_type": "code",
   "execution_count": 97,
   "metadata": {},
   "outputs": [
    {
     "name": "stdout",
     "output_type": "stream",
     "text": [
      "Theta calculado a partir de la ecuación de la normal: [-9.14538674e+02  2.50012408e+01 -7.43396927e-02]\n",
      "Precio predecido para una cada de superficie de 1650 sq-ft y 3 dormitorios (usando la ecuación de la normal): $181\n"
     ]
    }
   ],
   "source": [
    "# Calcula los parametros con la ecuación de la normal\n",
    "theta = normalEqn(X, y);\n",
    "\n",
    "# Muestra los resultados optenidos a partir de la aplicación de la ecuación de la normal\n",
    "print('Theta calculado a partir de la ecuación de la normal: {:s}'.format(str(theta)));\n",
    "\n",
    "# Estimar el precio para una casa de superficie de 1650 sq-ft y tres dormitorios\n",
    "\n",
    "X_array = [1, 45, 400]\n",
    "price = np.dot(X_array, theta) \n",
    "\n",
    "print('Precio predecido para una cada de superficie de 1650 sq-ft y 3 dormitorios (usando la ecuación de la normal): ${:.0f}'.format(price))"
   ]
  },
  {
   "cell_type": "code",
   "execution_count": 96,
   "metadata": {},
   "outputs": [
    {
     "data": {
      "text/plain": [
       "[<matplotlib.lines.Line2D at 0x1eb02ac7340>]"
      ]
     },
     "execution_count": 96,
     "metadata": {},
     "output_type": "execute_result"
    },
    {
     "data": {
      "image/png": "[encoded data removed]",
      "text/plain": [
       "<Figure size 432x288 with 1 Axes>"
      ]
     },
     "metadata": {
      "needs_background": "light"
     },
     "output_type": "display_data"
    }
   ],
   "source": [
    "plotData(X[:, 1], y)\n",
    "#X = np.concatenate([np.ones((m, 1)), X], axis=1)\n",
    "#X = np.concatenate([X, X * X], axis=1)\n",
    "\n",
    "pyplot.plot(X[:, 1], np.dot(X, theta), '-')"
   ]
  }
 ],
 "metadata": {
  "kernelspec": {
   "display_name": "Python 3.10.4 64-bit",
   "language": "python",
   "name": "python3"
  },
  "language_info": {
   "codemirror_mode": {
    "name": "ipython",
    "version": 3
   },
   "file_extension": ".py",
   "mimetype": "text/x-python",
   "name": "python",
   "nbconvert_exporter": "python",
   "pygments_lexer": "ipython3",
   "version": "3.10.4"
  },
  "orig_nbformat": 4,
  "vscode": {
   "interpreter": {
    "hash": "4fc575347efa219798fdc80e72f18537acafed02733d7815abe9dda575f05009"
   }
  }
 },
 "nbformat": 4,
 "nbformat_minor": 2
}
