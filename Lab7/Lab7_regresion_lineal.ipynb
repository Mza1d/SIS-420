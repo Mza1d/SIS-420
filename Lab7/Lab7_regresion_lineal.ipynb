{
  "cells": [
    {
      "cell_type": "code",
      "execution_count": 2,
      "metadata": {
        "id": "mIM3MHD6oWwH"
      },
      "outputs": [],
      "source": [
        "import os\n",
        "import numpy as np\n",
        "from matplotlib import pyplot\n",
        "import csv\n",
        "import pandas as pd"
      ]
    },
    {
      "cell_type": "code",
      "execution_count": 3,
      "metadata": {
        "id": "8fqXopw1owNd"
      },
      "outputs": [
        {
          "name": "stdout",
          "output_type": "stream",
          "text": [
            "6144\n"
          ]
        }
      ],
      "source": [
        "# Leer datos\n",
        "data=pd.read_csv('D:/Trabajos/dataset/consolidado_covid_19-mun_se.csv', delimiter=',')\n",
        "df=pd.DataFrame(data)\n",
        "X, y=df['CONFIRMADOS'],df['RECUPERADOS(*)']\n",
        "\n",
        "m = y.size\n",
        "print(m)"
      ]
    },
    {
      "cell_type": "code",
      "execution_count": 4,
      "metadata": {
        "colab": {
          "base_uri": "https://localhost:8080/"
        },
        "id": "B9lKpNqDOHoA",
        "outputId": "01513840-7b85-4690-8a26-5f82ffb6d997"
      },
      "outputs": [
        {
          "name": "stdout",
          "output_type": "stream",
          "text": [
            "0        1\n",
            "1        0\n",
            "2        0\n",
            "3       85\n",
            "4       48\n",
            "        ..\n",
            "6139    32\n",
            "6140     4\n",
            "6141     0\n",
            "6142    10\n",
            "6143     0\n",
            "Name: RECUPERADOS(*), Length: 6144, dtype: int64 \n",
            "\n"
          ]
        }
      ],
      "source": [
        "print(y,\"\\n\")"
      ]
    },
    {
      "cell_type": "code",
      "execution_count": 5,
      "metadata": {
        "id": "Dh-iI6OTqU6-"
      },
      "outputs": [],
      "source": [
        "def graficarDatos(x,y):\n",
        "  fig = pyplot.figure()\n",
        "  pyplot.plot(x,y, 'ro')\n",
        "  pyplot.xlabel('CASOS CONFIRMADOS')\n",
        "  pyplot.ylabel('RECUPERADOS')"
      ]
    },
    {
      "cell_type": "code",
      "execution_count": 6,
      "metadata": {
        "colab": {
          "base_uri": "https://localhost:8080/",
          "height": 280
        },
        "id": "XFuj2xYOq8Rk",
        "outputId": "06c3d85f-20ba-4766-bed4-ece858af2f1a"
      },
      "outputs": [
        {
          "data": {
            "image/png": "[encoded data removed]",
            "text/plain": [
              "<Figure size 432x288 with 1 Axes>"
            ]
          },
          "metadata": {
            "needs_background": "light"
          },
          "output_type": "display_data"
        }
      ],
      "source": [
        "graficarDatos(X,y)"
      ]
    },
    {
      "cell_type": "code",
      "execution_count": 7,
      "metadata": {
        "id": "jkVjRskgrJd2"
      },
      "outputs": [],
      "source": [
        "# No olvidarse agregar unos a la matriz de x\n",
        "#X = np.stack([np.ones(m), y], axis=1)\n",
        "X = np.stack([np.ones(m), X], axis=1)"
      ]
    },
    {
      "cell_type": "code",
      "execution_count": 8,
      "metadata": {
        "colab": {
          "base_uri": "https://localhost:8080/"
        },
        "id": "TTJCbtcoOw-c",
        "outputId": "bd004f74-e288-493e-bc61-d72e3727f4ec"
      },
      "outputs": [
        {
          "data": {
            "text/plain": [
              "array([[ 1., 14.],\n",
              "       [ 1.,  1.],\n",
              "       [ 1.,  1.],\n",
              "       ...,\n",
              "       [ 1.,  7.],\n",
              "       [ 1., 10.],\n",
              "       [ 1.,  7.]])"
            ]
          },
          "execution_count": 8,
          "metadata": {},
          "output_type": "execute_result"
        }
      ],
      "source": [
        "X"
      ]
    },
    {
      "cell_type": "code",
      "execution_count": 9,
      "metadata": {
        "id": "iDWldqUVwYwK"
      },
      "outputs": [],
      "source": [
        "def calcularCosto(X, y, theta):\n",
        "  m = y.size\n",
        "  J = 0\n",
        "  h = np.dot(X, theta)\n",
        "  # print(h)\n",
        "  J = (1/(2 * m)) * np.sum(np.square(np.dot(X, theta) - y))\n",
        "  return J"
      ]
    },
    {
      "cell_type": "code",
      "execution_count": 10,
      "metadata": {},
      "outputs": [
        {
          "name": "stdout",
          "output_type": "stream",
          "text": [
            "6144\n"
          ]
        }
      ],
      "source": [
        "print(m)"
      ]
    },
    {
      "cell_type": "code",
      "execution_count": 11,
      "metadata": {
        "colab": {
          "base_uri": "https://localhost:8080/"
        },
        "id": "HqtBZGFex0uR",
        "outputId": "91254d25-d4ce-4aaa-a4cb-5b4e0eb8b3d2"
      },
      "outputs": [
        {
          "name": "stdout",
          "output_type": "stream",
          "text": [
            "con theta:[0.1   0.001] se obtiene un costo de: 1180581.4579880028\n"
          ]
        }
      ],
      "source": [
        "theta=np.array([0.1, 0.001])\n",
        "JJ = calcularCosto(X, y, theta)\n",
        "print(f\"con theta:{ theta } se obtiene un costo de: {JJ}\")"
      ]
    },
    {
      "cell_type": "code",
      "execution_count": 12,
      "metadata": {
        "id": "ymTwiKnBzVk1"
      },
      "outputs": [],
      "source": [
        "def calcularDescensoGradiente(X, y, theta, alpha, numero_iteraciones):\n",
        "  m = y.shape[0]\n",
        "  theta = theta.copy()\n",
        "  J_historico = []\n",
        "\n",
        "  for i in range(numero_iteraciones):\n",
        "    theta = theta - (alpha / m) * (np.dot(X, theta) - y).dot(X)\n",
        "    J_historico.append(calcularCosto(X, y, theta))\n",
        "\n",
        "  return theta, J_historico"
      ]
    },
    {
      "cell_type": "code",
      "execution_count": 16,
      "metadata": {
        "colab": {
          "base_uri": "https://localhost:8080/"
        },
        "id": "XVLJEATe0fiS",
        "outputId": "2da224d1-7668-4a2d-c3a3-d59cdb956719"
      },
      "outputs": [
        {
          "name": "stdout",
          "output_type": "stream",
          "text": [
            "los valores de theta calculados son: [-1.86816965e+240 -2.11582928e+244]\n",
            "con un costo de: inf \n"
          ]
        }
      ],
      "source": [
        "theta = np.zeros(2)\n",
        "\n",
        "num_ite = 60\n",
        "alpha = 0.003\n",
        "\n",
        "theta, J_historico = calcularDescensoGradiente(X, y, theta, alpha, num_ite)\n",
        "print(f\"los valores de theta calculados son: { theta }\")\n",
        "print(f\"con un costo de: { J_historico[-1]} \")"
      ]
    },
    {
      "cell_type": "code",
      "execution_count": 17,
      "metadata": {
        "colab": {
          "base_uri": "https://localhost:8080/",
          "height": 298
        },
        "id": "ph6b7zgh1aD3",
        "outputId": "5f0535fd-3bf7-44d8-8154-9d6bd725168c"
      },
      "outputs": [
        {
          "data": {
            "text/plain": [
              "<matplotlib.legend.Legend at 0x1dbb4ac4220>"
            ]
          },
          "execution_count": 17,
          "metadata": {},
          "output_type": "execute_result"
        },
        {
          "data": {
            "image/png": "[encoded data removed]",
            "text/plain": [
              "<Figure size 432x288 with 1 Axes>"
            ]
          },
          "metadata": {
            "needs_background": "light"
          },
          "output_type": "display_data"
        }
      ],
      "source": [
        "graficarDatos(X[:, 1], y)\n",
        "pyplot.plot(X[:,1], np.dot(X, theta), '-')\n",
        "pyplot.legend(['Datos de entrenamiento', 'regresion lineal'])"
      ]
    },
    {
      "cell_type": "code",
      "execution_count": 18,
      "metadata": {
        "colab": {
          "base_uri": "https://localhost:8080/"
        },
        "id": "OJxXluBO2T5q",
        "outputId": "0ccfbd0f-0bf2-4029-b9b6-477125a31b16"
      },
      "outputs": [
        {
          "name": "stdout",
          "output_type": "stream",
          "text": [
            "-3.8719862731410425e+245\n"
          ]
        }
      ],
      "source": [
        "y_pred = np.dot([1, 18.3], theta)\n",
        "print(y_pred)"
      ]
    }
  ],
  "metadata": {
    "colab": {
      "collapsed_sections": [],
      "name": "regresion_lineal_simple_01.ipynb",
      "provenance": []
    },
    "kernelspec": {
      "display_name": "Python 3.10.4 64-bit",
      "language": "python",
      "name": "python3"
    },
    "language_info": {
      "codemirror_mode": {
        "name": "ipython",
        "version": 3
      },
      "file_extension": ".py",
      "mimetype": "text/x-python",
      "name": "python",
      "nbconvert_exporter": "python",
      "pygments_lexer": "ipython3",
      "version": "3.10.4"
    },
    "vscode": {
      "interpreter": {
        "hash": "4fc575347efa219798fdc80e72f18537acafed02733d7815abe9dda575f05009"
      }
    }
  },
  "nbformat": 4,
  "nbformat_minor": 0
}
